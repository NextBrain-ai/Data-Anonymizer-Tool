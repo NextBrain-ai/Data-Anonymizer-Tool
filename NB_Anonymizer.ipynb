{
  "nbformat": 4,
  "nbformat_minor": 0,
  "metadata": {
    "colab": {
      "provenance": []
    },
    "kernelspec": {
      "name": "python3",
      "display_name": "Python 3"
    },
    "language_info": {
      "name": "python"
    }
  },
  "cells": [
    {
      "cell_type": "markdown",
      "source": [
        "\n",
        "# NB Anonymizer: A Pioneering Data Privacy Tool\n",
        "\n",
        "Welcome to the **NB Anonymizer** project, a groundbreaking tool designed by [NextBrain](https://nextbrain.ai) to champion data privacy and security. In an era where data protection is paramount, our tool stands as a sentinel, providing an unwavering shield against privacy breaches. By seamlessly obfuscating personal identifiers, the NB Anonymizer guarantees that sensitive information remains cloaked, ensuring that no data is ever stored or compromised.\n",
        "\n",
        "## The Genesis of NB Anonymizer\n",
        "Our journey began during the intricate development phase of our flagship machine learning solution, NextBrain. We identified a critical gap in data privacy - a hurdle that often impedes the progress in the proof of concept phase. Recognizing this, we embarked on a mission to create a solution that not only addresses our needs but also resonates with the broader challenges faced by the community.\n",
        "\n",
        "## Our Commitment to Open-Source and Data Security\n",
        "In our relentless pursuit of excellence, we have dedicated NB Anonymizer to the open-source community. This initiative reflects our deep commitment to fostering a secure and transparent digital ecosystem. By sharing our solution, we aim to empower businesses, researchers, and developers alike, enabling them to safeguard their data with utmost confidence and compliance.\n",
        "\n",
        "Join us in this endeavor to redefine the standards of data security and contribute to a safer, more privacy-conscious world.\n",
        "\n",
        "---\n",
        "\n",
        "## How to use this notebook?\n",
        "\n",
        "Effortlessly navigate through this notebook by executing each code cell sequentially. Follow the accompanying instructions for a smooth experience.\n",
        "\n",
        "**No Code Reading Required**: You don't need to delve into the code details. Simply upload your data and download it once processed. Any additional steps are for visualization or optional configurations, ensuring a user-friendly journey.\n",
        "\n",
        "---"
      ],
      "metadata": {
        "id": "HVArnpXGYISn"
      }
    },
    {
      "cell_type": "markdown",
      "source": [
        "### Required Dependency: DataSynthesizer\n",
        "For the NB Anonymizer to function optimally, it relies on DataSynthesizer, a versatile library that excels in data anonymization and synthesis. This dependency ensures robust privacy protection while maintaining data utility, aligning perfectly with our tool's objectives."
      ],
      "metadata": {
        "id": "FRABxQjRYv7l"
      }
    },
    {
      "cell_type": "code",
      "execution_count": null,
      "metadata": {
        "cellView": "form",
        "id": "Qnk4kpRTX-zY"
      },
      "outputs": [],
      "source": [
        "# @title\n",
        "!pip install DataSynthesizer==0.1.13 pandas"
      ]
    },
    {
      "cell_type": "markdown",
      "source": [
        "## 1. Upload the data you want to anonymize"
      ],
      "metadata": {
        "id": "naIgkSwql4t_"
      }
    },
    {
      "cell_type": "code",
      "source": [
        "# @title\n",
        "import base64\n",
        "import ipywidgets as widgets\n",
        "import io\n",
        "import pandas as pd\n",
        "import pathlib\n",
        "import tempfile\n",
        "\n",
        "from DataSynthesizer.DataDescriber import DataDescriber\n",
        "from DataSynthesizer.DataGenerator import DataGenerator\n",
        "from IPython.display import display, HTML"
      ],
      "metadata": {
        "cellView": "form",
        "id": "-nDVHeWdaReR"
      },
      "execution_count": 16,
      "outputs": []
    },
    {
      "cell_type": "code",
      "source": [
        "# @title\n",
        "uploader = widgets.FileUpload(\n",
        "    accept='.csv,.txt,.xls,.xlsx',\n",
        "    multiple=False\n",
        ")\n",
        "uploader"
      ],
      "metadata": {
        "cellView": "form",
        "id": "dAqWuiT-ZKRz"
      },
      "execution_count": null,
      "outputs": []
    },
    {
      "cell_type": "markdown",
      "source": [
        "## 2. Visualize your original data"
      ],
      "metadata": {
        "id": "BDllFYa7emp5"
      }
    },
    {
      "cell_type": "code",
      "source": [
        "# @title\n",
        "if uploader.value:\n",
        "    uploaded_file = next(iter(uploader.value.values()))\n",
        "    file_name = uploaded_file['metadata']['name']\n",
        "    file_extension = file_name.split('.')[-1].lower()\n",
        "\n",
        "    if file_extension in ['xls', 'xlsx']:\n",
        "        df = pd.read_excel(io.BytesIO(uploaded_file['content']))\n",
        "    else:\n",
        "        df = pd.read_csv(io.BytesIO(uploaded_file['content']))\n",
        "else:\n",
        "  print('Re-execute this cell once you upload your data')\n",
        "\n",
        "df"
      ],
      "metadata": {
        "cellView": "form",
        "id": "mjBXj9sBZ6pp"
      },
      "execution_count": null,
      "outputs": []
    },
    {
      "cell_type": "markdown",
      "source": [
        "## 3. Select your anonymization algorithm (optional).\n",
        "\n",
        "You can check in more detail all the algorithms [here](https://github.com/DataResponsibly/DataSynthesizer)"
      ],
      "metadata": {
        "id": "nId6phXHj-z_"
      }
    },
    {
      "cell_type": "code",
      "source": [
        "# @title\n",
        "options = [\n",
        "    'Random mode (fast speed)',\n",
        "    'Independent attribute mode (medium speed)',\n",
        "    'Correlated attribute mode (low speed)'\n",
        "]\n",
        "dropdown = widgets.Dropdown(\n",
        "    options=options,\n",
        "    value=options[1],\n",
        "    description='Select:',\n",
        "    disabled=False,\n",
        ")\n",
        "\n",
        "print('Anonymization algorithm')\n",
        "# Display the dropdown\n",
        "display(dropdown)"
      ],
      "metadata": {
        "cellView": "form",
        "id": "3Nm9bmZ2hmzL"
      },
      "execution_count": null,
      "outputs": []
    },
    {
      "cell_type": "markdown",
      "source": [
        "## 3. Generate anonymized data! 🎉"
      ],
      "metadata": {
        "id": "gZa7Qe35kMJh"
      }
    },
    {
      "cell_type": "code",
      "source": [
        "# @title\n",
        "with tempfile.TemporaryDirectory() as temp_dir:\n",
        "    temp_dir = pathlib.Path(temp_dir)\n",
        "\n",
        "    csv_file = temp_dir / 'data.csv'\n",
        "    description_file = temp_dir / 'describe.json'\n",
        "    synthetic_data_file = temp_dir / 'synthetic.csv'\n",
        "\n",
        "    df.to_csv(csv_file)\n",
        "\n",
        "    algorithm_level = options.index(dropdown.value)\n",
        "\n",
        "    describer = DataDescriber(category_threshold=20)\n",
        "\n",
        "    level_to_describer_algorithm = {\n",
        "        0: describer.describe_dataset_in_random_mode,\n",
        "        1: describer.describe_dataset_in_independent_attribute_mode,\n",
        "        2: describer.describe_dataset_in_correlated_attribute_mode,\n",
        "    }\n",
        "\n",
        "    # Generate description\n",
        "    level_to_describer_algorithm[algorithm_level](csv_file)\n",
        "    # Save\n",
        "    describer.save_dataset_description_to_file(description_file)\n",
        "\n",
        "    generator = DataGenerator()\n",
        "\n",
        "    level_to_generator_algorithm = {\n",
        "        0: generator.generate_dataset_in_random_mode,\n",
        "        1: generator.generate_dataset_in_independent_mode,\n",
        "        2: generator.generate_dataset_in_correlated_attribute_mode,\n",
        "    }\n",
        "\n",
        "    # Generate synthetic data\n",
        "    level_to_generator_algorithm[algorithm_level](len(df), description_file=description_file)\n",
        "    # Save\n",
        "    generator.save_synthetic_data(synthetic_data_file)\n",
        "\n",
        "    synthetic_df = pd.read_csv(synthetic_data_file)\n",
        "\n",
        "synthetic_df"
      ],
      "metadata": {
        "cellView": "form",
        "id": "mt0agPIDa6Ww"
      },
      "execution_count": null,
      "outputs": []
    },
    {
      "cell_type": "markdown",
      "source": [
        "## 4. Download your anonymized CSV.\n",
        "\n",
        "You can then upload it to [NextBrain Application](https://app.nextbrain.ai) without any privacy concerns."
      ],
      "metadata": {
        "id": "74ivn_6KkY7j"
      }
    },
    {
      "cell_type": "code",
      "source": [
        "# @title\n",
        "def create_download_link(df, filename=\"data.csv\", title=\"Download CSV file\"):\n",
        "    # Generate CSV from DataFrame\n",
        "    csv = df.to_csv(index=False)\n",
        "    b64 = base64.b64encode(csv.encode()).decode()\n",
        "\n",
        "    # Create download link\n",
        "    href = f'<a href=\"data:file/csv;base64,{b64}\" download=\"{filename}\" target=\"_blank\">{title}</a>'\n",
        "    return href\n",
        "\n",
        "try:\n",
        "  synthetic_df\n",
        "except Exception:\n",
        "  print('Execute previous cells before trying to download synthetic data.')\n",
        "else:\n",
        "  display(HTML(create_download_link(synthetic_df)))"
      ],
      "metadata": {
        "cellView": "form",
        "id": "OuBZHM-KcLzZ"
      },
      "execution_count": null,
      "outputs": []
    },
    {
      "cell_type": "markdown",
      "source": [
        "# Thank You for Using NB Anonymizer!\n",
        "As we wrap up your experience with the **NB Anonymizer**, we want to extend our heartfelt gratitude for choosing our tool to safeguard your data privacy. We are committed to empowering you with tools that ensure the utmost security and efficiency in handling sensitive information.\n",
        "\n",
        "## Explore the Vast Potential of NextBrain\n",
        "We warmly invite you to explore [NextBrain](https://nextbrain.ai), our comprehensive machine learning platform designed to revolutionize the way you interact with data. At NextBrain, we're not just about data processing; we're about unlocking a world of possibilities:\n",
        "\n",
        "* **Advanced Analytics**: Dive into deep insights and transform data into actionable intelligence.\n",
        "* **User-Friendly Interface**: Navigate with ease, whether you're a beginner or an expert.\n",
        "* **Cutting-Edge Machine Learning Models**: Leverage the latest in AI to propel your projects forward.\n",
        "* **Custom Solutions**: Tailor the platform to meet your unique needs and challenges.\n",
        "* **Community and Support**: Join a growing community of enthusiasts and experts, ready to support and collaborate.\n",
        "Your Journey Towards Data Mastery Begins Here\n",
        "Whether it's for business growth, research, or personal projects, NextBrain is equipped to be your partner in success. We believe in the power of data to change the world, and with NextBrain, you're at the forefront of this transformation.\n",
        "\n",
        "Thank you once again for your trust in **NB Anonymizer**. We can't wait to see what you'll achieve with NextBrain!\n",
        "\n",
        "Start exploring NextBrain today!"
      ],
      "metadata": {
        "id": "RLaprK9Vk5aO"
      }
    }
  ]
}